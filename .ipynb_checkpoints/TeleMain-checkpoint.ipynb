{
 "cells": [
  {
   "cell_type": "code",
   "execution_count": 1,
   "id": "caafdd0a-020b-4261-b5e8-9a3d6f2b9e5a",
   "metadata": {},
   "outputs": [],
   "source": [
    "import telebot\n",
    "import datetime\n",
    "import sqlite3\n",
    "from telebot import types"
   ]
  },
  {
   "cell_type": "code",
   "execution_count": 2,
   "id": "705051c0-8862-49a8-ab50-0380e400cd15",
   "metadata": {},
   "outputs": [],
   "source": [
    "bot = telebot.TeleBot('6724612245:AAEp5jC_1ZshpRXwc75_3rsjCgWCSNwRR8U')\n"
   ]
  },
  {
   "cell_type": "code",
   "execution_count": 3,
   "id": "8db79687-2d2e-4002-aa96-6094f69a960b",
   "metadata": {},
   "outputs": [],
   "source": [
    "@bot.message_handler(commands=['start'])\n",
    "def start(message):\n",
    "    name = []\n",
    "    markup = types.ReplyKeyboardMarkup()\n",
    "    btn1 = types.KeyboardButton('Перейти на сайт' )\n",
    "    markup.row(btn1)\n",
    "    btn2 = types.KeyboardButton('Дата')\n",
    "    btn3 = types.KeyboardButton('Время')\n",
    "    markup.row(btn2, btn3)\n",
    "    \n",
    "    conn = sqlite3.connect('VitaBot.sql')\n",
    "    cur = conn.cursor()\n",
    "\n",
    "    cur.execute('CREATE TABLE IF NOT EXISTS users (id int auto_increment primary key, name varchar(50), pass varcahr(50))')\n",
    "    conn.commit()\n",
    "    cur.close()\n",
    "    conn.close()\n",
    "\n",
    "    conn = sqlite3.connect('VitaBot.sql')\n",
    "    cur = conn.cursor()\n",
    "    info = cur.execute('SELECT * FROM users WHERE id=?', (message.from_user.id, )).fetchone()\n",
    "    if info == None: \n",
    "        bot.send_message(message.chat.id, 'Привет, сейчас я тебя зарегистрирую! Введи своё имя ', reply_markup = markup)\n",
    "        bot.register_next_step_handler(message, user_name)  #Делаем когда нету человека в бд\n",
    "    else:\n",
    "        conn = sqlite3.connect('VitaBot.sql')\n",
    "        cur = conn.cursor()\n",
    "        current_user_id = message.from_user.id\n",
    "        Name = cur.execute(\"SELECT name FROM 'users' WHERE id=?\", (current_user_id, )).fetchone()\n",
    "        Name = Name[0]\n",
    "        bot.send_message(message.chat.id, f'Привет {Name}')        #Делаем когда есть человек в бд\n",
    "        cur.close()\n",
    "        conn.close()\n",
    "   \n",
    "def user_name(message):\n",
    "    global name\n",
    "    name = message.text.strip()\n",
    "    bot.send_message(message.chat.id, 'Введите пароль ')\n",
    "    bot.register_next_step_handler(message, user_pass)\n",
    "\n",
    "def user_pass(message):\n",
    "    pasword = message.text.strip()\n",
    "    conn = sqlite3.connect('VitaBot.sql')\n",
    "    cur = conn.cursor()\n",
    "\n",
    "    cur.execute(\"INSERT INTO users (id, name, pass) VALUES ( '%s', '%s', '%s')\" % (message.from_user.id, name, pasword))\n",
    "    conn.commit()\n",
    "    cur.close()\n",
    "    conn.close()\n",
    "    \n",
    "    bot.send_message(message.chat.id, 'Потзователь зарегистрирован')\n",
    "    "
   ]
  },
  {
   "cell_type": "code",
   "execution_count": 4,
   "id": "6a831a15-328c-4e7a-ab83-2ca8809e9253",
   "metadata": {},
   "outputs": [],
   "source": [
    "@bot.message_handler(commands=['help'])\n",
    "def main(message):\n",
    "    bot.send_message(message.chat.id, 'Help information!')\n",
    "    "
   ]
  },
  {
   "cell_type": "code",
   "execution_count": 5,
   "id": "689be2ba-00a3-4db6-87de-cfc136d34339",
   "metadata": {},
   "outputs": [],
   "source": [
    "@bot.message_handler()\n",
    "def main(message):\n",
    "    markup = types.InlineKeyboardMarkup()\n",
    "    btn1 = types.InlineKeyboardButton('Перейти на сайт ', url = 'https://www.youtube.com/watch?v=dQw4w9WgXcQ')\n",
    "    markup.row(btn1)\n",
    "    btn2 = types.InlineKeyboardButton('Удалить сообщение ', callback_data = 'delete')\n",
    "    btn3 = types.InlineKeyboardButton('Изменить сообщение ', callback_data = 'edit')\n",
    "    markup.row(btn2, btn3)\n",
    "    if message.text.lower() == 'привет':\n",
    "        bot.send_message(message.chat.id, f'Привет, {message.from_user.first_name} {message.from_user.last_name}', reply_markup = markup)\n",
    "    elif message.text.lower() == 'id':\n",
    "        bot.reply_to(message, f'ID: {message.from_user.id}', reply_markup = markup)\n",
    "    elif message.text.lower() == 'время':\n",
    "        current_time = datetime.datetime.now().strftime(\"%H:%M:%S\")\n",
    "        bot.send_message(message.chat.id, f'Тeкущее время {current_time}' , reply_markup = markup)\n",
    "    elif message.text.lower() == 'дата':\n",
    "        current_date = datetime.date.today().strftime('%d-%m-%Y')\n",
    "        bot.send_message(message.chat.id, f'Сегодня у нас {current_date}' , reply_markup = markup)\n",
    "    else:\n",
    "        bot.send_message(message.chat.id, 'Извините, пока что я ничего не могу вам ответить((', reply_markup = markup)\n",
    "    "
   ]
  },
  {
   "cell_type": "code",
   "execution_count": 6,
   "id": "24542f66-26fd-4a97-bf33-d8b22246b1cc",
   "metadata": {},
   "outputs": [],
   "source": [
    "@bot.callback_query_handler(func=lambda callback:True)\n",
    "def callback_message(callback):\n",
    "    if callback.data == 'delete':\n",
    "        bot.delete_message(callback.message.chat.id, callback.message.message_id)\n",
    "        bot.delete_message(callback.message.chat.id, callback.message.message_id - 1)\n",
    "    elif callback.data == 'edit':\n",
    "        bot.edit_message_text('Edit text', callback.message.chat.id, callback.message.message_id )\n",
    "    "
   ]
  },
  {
   "cell_type": "code",
   "execution_count": 7,
   "id": "16049535-fbf5-4218-833a-66b97c9f194c",
   "metadata": {},
   "outputs": [],
   "source": [
    "bot.polling(none_stop=True)    \n"
   ]
  },
  {
   "cell_type": "code",
   "execution_count": null,
   "id": "3393cdad-b95b-464d-a79c-e016cff00e10",
   "metadata": {},
   "outputs": [],
   "source": []
  }
 ],
 "metadata": {
  "kernelspec": {
   "display_name": "Python 3 (ipykernel)",
   "language": "python",
   "name": "python3"
  },
  "language_info": {
   "codemirror_mode": {
    "name": "ipython",
    "version": 3
   },
   "file_extension": ".py",
   "mimetype": "text/x-python",
   "name": "python",
   "nbconvert_exporter": "python",
   "pygments_lexer": "ipython3",
   "version": "3.8.2"
  }
 },
 "nbformat": 4,
 "nbformat_minor": 5
}
